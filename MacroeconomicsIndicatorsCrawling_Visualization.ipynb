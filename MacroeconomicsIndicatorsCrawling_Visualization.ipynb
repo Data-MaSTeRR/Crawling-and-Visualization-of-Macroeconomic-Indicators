{
 "cells": [
  {
   "cell_type": "code",
   "execution_count": 6,
   "metadata": {},
   "outputs": [],
   "source": [
    "### 한국은행 통계시스템에서 데이터크롤링하여 전처리하는 프로세스\n",
    "\n",
    "import requests\n",
    "import numpy as np\n",
    "import pandas as pd\n",
    "\n",
    "## 금리는 class rate: 로 묶기\n",
    "\n",
    "## CD(91일)\n",
    "def get_CD_interest_rate(api_key, start_date, end_date):\n",
    "    \n",
    "    url = 'http://ecos.bok.or.kr/api/StatisticSearch/' + api_key + '/json/kr/1/100/[STAT_CODE]/D/YYYYMMDD/YYYYMMDD/[SUB_CODE]'\n",
    "    \n",
    "    url = url.replace(\"[STAT_CODE]\", \"817Y002\")\n",
    "    url = url.replace(\"YYYYMMDD/YYYYMMDD\", start_date + \"/\" + end_date)\n",
    "    url = url.replace(\"[SUB_CODE]\", \"010502000\")\n",
    "\n",
    "    response = requests.get(url)\n",
    "    result = response.json()\n",
    "\n",
    "    list_total_count=(int)(result['StatisticSearch']['list_total_count'])\n",
    "    list_count=(int)(list_total_count/100) + 1\n",
    "\n",
    "    rows=[]\n",
    "    for i in range(0,list_count):\n",
    "        \n",
    "        start = str(i * 100 + 1)\n",
    "        end = str((i + 1) * 100)\n",
    "        \n",
    "        url = \"http://ecos.bok.or.kr/api/StatisticSearch/\" + api_key + \"/json/kr/\" + start + \"/\" + end + \"/\" + \"[STAT_CODE]/D/YYYYMMDD/YYYYMMDD/[SUB_CODE]\"\n",
    "    \n",
    "        url = url.replace(\"[STAT_CODE]\", \"817Y002\")\n",
    "        url = url.replace(\"YYYYMMDD/YYYYMMDD\", start_date + \"/\" + end_date)\n",
    "        url = url.replace(\"[SUB_CODE]\", \"010502000\")\n",
    "\n",
    "        response = requests.get(url)\n",
    "        data = response.json()\n",
    "        \n",
    "        # API로부터 받은 데이터를 파싱하여 기준금리를 추출\n",
    "        rows += data['StatisticSearch']['row']\n",
    "    \n",
    "    CD_rates = pd.DataFrame(rows)\n",
    "\n",
    "    return CD_rates\n",
    "\n",
    "## 국고채3년\n",
    "def get_Korea_interest_rate(api_key, start_date, end_date):\n",
    "    \n",
    "    url = 'http://ecos.bok.or.kr/api/StatisticSearch/' + api_key + '/json/kr/1/100/[STAT_CODE]/D/YYYYMMDD/YYYYMMDD/[SUB_CODE]'\n",
    "    \n",
    "    url = url.replace(\"[STAT_CODE]\", \"817Y002\")\n",
    "    url = url.replace(\"YYYYMMDD/YYYYMMDD\", start_date + \"/\" + end_date)\n",
    "    url = url.replace(\"[SUB_CODE]\", \"010200000\")\n",
    "\n",
    "    response = requests.get(url)\n",
    "    result = response.json()\n",
    "\n",
    "    list_total_count=(int)(result['StatisticSearch']['list_total_count'])\n",
    "    list_count=(int)(list_total_count/100) + 1\n",
    "\n",
    "    rows=[]\n",
    "    for i in range(0,list_count):\n",
    "        \n",
    "        start = str(i * 100 + 1)\n",
    "        end = str((i + 1) * 100)\n",
    "        \n",
    "        url = \"http://ecos.bok.or.kr/api/StatisticSearch/\" + api_key + \"/json/kr/\" + start + \"/\" + end + \"/\" + \"[STAT_CODE]/D/YYYYMMDD/YYYYMMDD/[SUB_CODE]\"\n",
    "    \n",
    "        url = url.replace(\"[STAT_CODE]\", \"817Y002\")\n",
    "        url = url.replace(\"YYYYMMDD/YYYYMMDD\", start_date + \"/\" + end_date)\n",
    "        url = url.replace(\"[SUB_CODE]\", \"010200000\")\n",
    "\n",
    "        response = requests.get(url)\n",
    "        data = response.json()\n",
    "        \n",
    "        rows += data['StatisticSearch']['row']\n",
    "    \n",
    "    Korea_rates = pd.DataFrame(rows)\n",
    "\n",
    "    return Korea_rates\n",
    "\n",
    "## 회사채3년(AA-)\n",
    "def get_Company_interest_rate(api_key, start_date, end_date):\n",
    "    \n",
    "    url = 'http://ecos.bok.or.kr/api/StatisticSearch/' + api_key + '/json/kr/1/100/[STAT_CODE]/D/YYYYMMDD/YYYYMMDD/[SUB_CODE]'\n",
    "    \n",
    "    url = url.replace(\"[STAT_CODE]\", \"817Y002\")\n",
    "    url = url.replace(\"YYYYMMDD/YYYYMMDD\", start_date + \"/\" + end_date)\n",
    "    url = url.replace(\"[SUB_CODE]\", \"010300000\")\n",
    "\n",
    "    response = requests.get(url)\n",
    "    result = response.json()\n",
    "\n",
    "    list_total_count=(int)(result['StatisticSearch']['list_total_count'])\n",
    "    list_count=(int)(list_total_count/100) + 1\n",
    "\n",
    "    rows=[]\n",
    "    for i in range(0,list_count):\n",
    "        \n",
    "        start = str(i * 100 + 1)\n",
    "        end = str((i + 1) * 100)\n",
    "        \n",
    "        url = \"http://ecos.bok.or.kr/api/StatisticSearch/\" + api_key + \"/json/kr/\" + start + \"/\" + end + \"/\" + \"[STAT_CODE]/D/YYYYMMDD/YYYYMMDD/[SUB_CODE]\"\n",
    "    \n",
    "        url = url.replace(\"[STAT_CODE]\", \"817Y002\")\n",
    "        url = url.replace(\"YYYYMMDD/YYYYMMDD\", start_date + \"/\" + end_date)\n",
    "        url = url.replace(\"[SUB_CODE]\", \"010300000\")\n",
    "\n",
    "        response = requests.get(url)\n",
    "        data = response.json()\n",
    "        \n",
    "        rows += data['StatisticSearch']['row']\n",
    "    \n",
    "    Company_rates = pd.DataFrame(rows)\n",
    "\n",
    "    return Company_rates\n",
    "\n",
    "\n",
    "# 사용 예:\n",
    "api_key = 'C7GJE1C09ADYZNF4MH30'\n",
    "\n",
    "# 금리\n",
    "rate_start_date = input(\"조회할 금리의 시작날짜입력(YYYYMMDD):\")\n",
    "rate_end_date = input(\"조회할 금리의 마지막날짜입력(YYYYMMDD):\")\n",
    "CD_rates = get_CD_interest_rate(api_key, rate_start_date, rate_end_date)\n",
    "Korea_rates = get_Korea_interest_rate(api_key, rate_start_date, rate_end_date)\n",
    "Company_rates = get_Company_interest_rate(api_key, rate_start_date, rate_end_date)\n",
    "\n",
    "# Company_rates = {item['TIME']: item['DATA_VALUE'] for item in data['StatisticSearch']['row']}\n",
    "\n",
    "# 위 방식으로 함수를 만들어 크롤링하면 됨!\n",
    "# 환율 -- 달러, 엔화, 위안화, 유로화\n",
    "# 주가지수 -- 코스피, 코스닥, 다우존스, 나스닥, 닛케이, 홍콩항셍\n",
    "# 원자재 -- 원유(WTI), 금, ...\n",
    "\n"
   ]
  },
  {
   "cell_type": "code",
   "execution_count": 7,
   "metadata": {},
   "outputs": [
    {
     "data": {
      "application/vnd.plotly.v1+json": {
       "config": {
        "plotlyServerURL": "https://plot.ly"
       },
       "data": [
        {
         "delta": {
          "reference": 3.83,
          "relative": true,
          "valueformat": ".2%"
         },
         "domain": {
          "column": 0,
          "row": 0
         },
         "mode": "number+delta",
         "number": {
          "suffix": " "
         },
         "title": {
          "text": "CD(91일)<br><span style='font-size:0.8em;color:gray'>2023-12-31 / 변동: 0.0</span>"
         },
         "type": "indicator",
         "value": 3.83
        },
        {
         "delta": {
          "reference": 3.154,
          "relative": true,
          "valueformat": ".2%"
         },
         "domain": {
          "column": 1,
          "row": 0
         },
         "mode": "number+delta",
         "number": {
          "suffix": " "
         },
         "title": {
          "text": "국고채(3년)<br><span style='font-size:0.8em;color:gray'>2023-12-31 / 변동: 0.0</span>"
         },
         "type": "indicator",
         "value": 3.154
        },
        {
         "delta": {
          "reference": 3.898,
          "relative": true,
          "valueformat": ".2%"
         },
         "domain": {
          "column": 0,
          "row": 1
         },
         "mode": "number+delta",
         "number": {
          "suffix": " "
         },
         "title": {
          "text": "회사채(3년, AA-)<br><span style='font-size:0.8em;color:gray'>2023-12-31 / 변동: 0.0</span>"
         },
         "type": "indicator",
         "value": 3.898
        }
       ],
       "layout": {
        "grid": {
         "columns": 2,
         "pattern": "independent",
         "rows": 2
        },
        "height": 600,
        "margin": {
         "b": 30,
         "l": 20,
         "r": 20,
         "t": 30
        },
        "template": {
         "data": {
          "bar": [
           {
            "error_x": {
             "color": "#2a3f5f"
            },
            "error_y": {
             "color": "#2a3f5f"
            },
            "marker": {
             "line": {
              "color": "white",
              "width": 0.5
             },
             "pattern": {
              "fillmode": "overlay",
              "size": 10,
              "solidity": 0.2
             }
            },
            "type": "bar"
           }
          ],
          "barpolar": [
           {
            "marker": {
             "line": {
              "color": "white",
              "width": 0.5
             },
             "pattern": {
              "fillmode": "overlay",
              "size": 10,
              "solidity": 0.2
             }
            },
            "type": "barpolar"
           }
          ],
          "carpet": [
           {
            "aaxis": {
             "endlinecolor": "#2a3f5f",
             "gridcolor": "#C8D4E3",
             "linecolor": "#C8D4E3",
             "minorgridcolor": "#C8D4E3",
             "startlinecolor": "#2a3f5f"
            },
            "baxis": {
             "endlinecolor": "#2a3f5f",
             "gridcolor": "#C8D4E3",
             "linecolor": "#C8D4E3",
             "minorgridcolor": "#C8D4E3",
             "startlinecolor": "#2a3f5f"
            },
            "type": "carpet"
           }
          ],
          "choropleth": [
           {
            "colorbar": {
             "outlinewidth": 0,
             "ticks": ""
            },
            "type": "choropleth"
           }
          ],
          "contour": [
           {
            "colorbar": {
             "outlinewidth": 0,
             "ticks": ""
            },
            "colorscale": [
             [
              0,
              "#0d0887"
             ],
             [
              0.1111111111111111,
              "#46039f"
             ],
             [
              0.2222222222222222,
              "#7201a8"
             ],
             [
              0.3333333333333333,
              "#9c179e"
             ],
             [
              0.4444444444444444,
              "#bd3786"
             ],
             [
              0.5555555555555556,
              "#d8576b"
             ],
             [
              0.6666666666666666,
              "#ed7953"
             ],
             [
              0.7777777777777778,
              "#fb9f3a"
             ],
             [
              0.8888888888888888,
              "#fdca26"
             ],
             [
              1,
              "#f0f921"
             ]
            ],
            "type": "contour"
           }
          ],
          "contourcarpet": [
           {
            "colorbar": {
             "outlinewidth": 0,
             "ticks": ""
            },
            "type": "contourcarpet"
           }
          ],
          "heatmap": [
           {
            "colorbar": {
             "outlinewidth": 0,
             "ticks": ""
            },
            "colorscale": [
             [
              0,
              "#0d0887"
             ],
             [
              0.1111111111111111,
              "#46039f"
             ],
             [
              0.2222222222222222,
              "#7201a8"
             ],
             [
              0.3333333333333333,
              "#9c179e"
             ],
             [
              0.4444444444444444,
              "#bd3786"
             ],
             [
              0.5555555555555556,
              "#d8576b"
             ],
             [
              0.6666666666666666,
              "#ed7953"
             ],
             [
              0.7777777777777778,
              "#fb9f3a"
             ],
             [
              0.8888888888888888,
              "#fdca26"
             ],
             [
              1,
              "#f0f921"
             ]
            ],
            "type": "heatmap"
           }
          ],
          "heatmapgl": [
           {
            "colorbar": {
             "outlinewidth": 0,
             "ticks": ""
            },
            "colorscale": [
             [
              0,
              "#0d0887"
             ],
             [
              0.1111111111111111,
              "#46039f"
             ],
             [
              0.2222222222222222,
              "#7201a8"
             ],
             [
              0.3333333333333333,
              "#9c179e"
             ],
             [
              0.4444444444444444,
              "#bd3786"
             ],
             [
              0.5555555555555556,
              "#d8576b"
             ],
             [
              0.6666666666666666,
              "#ed7953"
             ],
             [
              0.7777777777777778,
              "#fb9f3a"
             ],
             [
              0.8888888888888888,
              "#fdca26"
             ],
             [
              1,
              "#f0f921"
             ]
            ],
            "type": "heatmapgl"
           }
          ],
          "histogram": [
           {
            "marker": {
             "pattern": {
              "fillmode": "overlay",
              "size": 10,
              "solidity": 0.2
             }
            },
            "type": "histogram"
           }
          ],
          "histogram2d": [
           {
            "colorbar": {
             "outlinewidth": 0,
             "ticks": ""
            },
            "colorscale": [
             [
              0,
              "#0d0887"
             ],
             [
              0.1111111111111111,
              "#46039f"
             ],
             [
              0.2222222222222222,
              "#7201a8"
             ],
             [
              0.3333333333333333,
              "#9c179e"
             ],
             [
              0.4444444444444444,
              "#bd3786"
             ],
             [
              0.5555555555555556,
              "#d8576b"
             ],
             [
              0.6666666666666666,
              "#ed7953"
             ],
             [
              0.7777777777777778,
              "#fb9f3a"
             ],
             [
              0.8888888888888888,
              "#fdca26"
             ],
             [
              1,
              "#f0f921"
             ]
            ],
            "type": "histogram2d"
           }
          ],
          "histogram2dcontour": [
           {
            "colorbar": {
             "outlinewidth": 0,
             "ticks": ""
            },
            "colorscale": [
             [
              0,
              "#0d0887"
             ],
             [
              0.1111111111111111,
              "#46039f"
             ],
             [
              0.2222222222222222,
              "#7201a8"
             ],
             [
              0.3333333333333333,
              "#9c179e"
             ],
             [
              0.4444444444444444,
              "#bd3786"
             ],
             [
              0.5555555555555556,
              "#d8576b"
             ],
             [
              0.6666666666666666,
              "#ed7953"
             ],
             [
              0.7777777777777778,
              "#fb9f3a"
             ],
             [
              0.8888888888888888,
              "#fdca26"
             ],
             [
              1,
              "#f0f921"
             ]
            ],
            "type": "histogram2dcontour"
           }
          ],
          "mesh3d": [
           {
            "colorbar": {
             "outlinewidth": 0,
             "ticks": ""
            },
            "type": "mesh3d"
           }
          ],
          "parcoords": [
           {
            "line": {
             "colorbar": {
              "outlinewidth": 0,
              "ticks": ""
             }
            },
            "type": "parcoords"
           }
          ],
          "pie": [
           {
            "automargin": true,
            "type": "pie"
           }
          ],
          "scatter": [
           {
            "fillpattern": {
             "fillmode": "overlay",
             "size": 10,
             "solidity": 0.2
            },
            "type": "scatter"
           }
          ],
          "scatter3d": [
           {
            "line": {
             "colorbar": {
              "outlinewidth": 0,
              "ticks": ""
             }
            },
            "marker": {
             "colorbar": {
              "outlinewidth": 0,
              "ticks": ""
             }
            },
            "type": "scatter3d"
           }
          ],
          "scattercarpet": [
           {
            "marker": {
             "colorbar": {
              "outlinewidth": 0,
              "ticks": ""
             }
            },
            "type": "scattercarpet"
           }
          ],
          "scattergeo": [
           {
            "marker": {
             "colorbar": {
              "outlinewidth": 0,
              "ticks": ""
             }
            },
            "type": "scattergeo"
           }
          ],
          "scattergl": [
           {
            "marker": {
             "colorbar": {
              "outlinewidth": 0,
              "ticks": ""
             }
            },
            "type": "scattergl"
           }
          ],
          "scattermapbox": [
           {
            "marker": {
             "colorbar": {
              "outlinewidth": 0,
              "ticks": ""
             }
            },
            "type": "scattermapbox"
           }
          ],
          "scatterpolar": [
           {
            "marker": {
             "colorbar": {
              "outlinewidth": 0,
              "ticks": ""
             }
            },
            "type": "scatterpolar"
           }
          ],
          "scatterpolargl": [
           {
            "marker": {
             "colorbar": {
              "outlinewidth": 0,
              "ticks": ""
             }
            },
            "type": "scatterpolargl"
           }
          ],
          "scatterternary": [
           {
            "marker": {
             "colorbar": {
              "outlinewidth": 0,
              "ticks": ""
             }
            },
            "type": "scatterternary"
           }
          ],
          "surface": [
           {
            "colorbar": {
             "outlinewidth": 0,
             "ticks": ""
            },
            "colorscale": [
             [
              0,
              "#0d0887"
             ],
             [
              0.1111111111111111,
              "#46039f"
             ],
             [
              0.2222222222222222,
              "#7201a8"
             ],
             [
              0.3333333333333333,
              "#9c179e"
             ],
             [
              0.4444444444444444,
              "#bd3786"
             ],
             [
              0.5555555555555556,
              "#d8576b"
             ],
             [
              0.6666666666666666,
              "#ed7953"
             ],
             [
              0.7777777777777778,
              "#fb9f3a"
             ],
             [
              0.8888888888888888,
              "#fdca26"
             ],
             [
              1,
              "#f0f921"
             ]
            ],
            "type": "surface"
           }
          ],
          "table": [
           {
            "cells": {
             "fill": {
              "color": "#EBF0F8"
             },
             "line": {
              "color": "white"
             }
            },
            "header": {
             "fill": {
              "color": "#C8D4E3"
             },
             "line": {
              "color": "white"
             }
            },
            "type": "table"
           }
          ]
         },
         "layout": {
          "annotationdefaults": {
           "arrowcolor": "#2a3f5f",
           "arrowhead": 0,
           "arrowwidth": 1
          },
          "autotypenumbers": "strict",
          "coloraxis": {
           "colorbar": {
            "outlinewidth": 0,
            "ticks": ""
           }
          },
          "colorscale": {
           "diverging": [
            [
             0,
             "#8e0152"
            ],
            [
             0.1,
             "#c51b7d"
            ],
            [
             0.2,
             "#de77ae"
            ],
            [
             0.3,
             "#f1b6da"
            ],
            [
             0.4,
             "#fde0ef"
            ],
            [
             0.5,
             "#f7f7f7"
            ],
            [
             0.6,
             "#e6f5d0"
            ],
            [
             0.7,
             "#b8e186"
            ],
            [
             0.8,
             "#7fbc41"
            ],
            [
             0.9,
             "#4d9221"
            ],
            [
             1,
             "#276419"
            ]
           ],
           "sequential": [
            [
             0,
             "#0d0887"
            ],
            [
             0.1111111111111111,
             "#46039f"
            ],
            [
             0.2222222222222222,
             "#7201a8"
            ],
            [
             0.3333333333333333,
             "#9c179e"
            ],
            [
             0.4444444444444444,
             "#bd3786"
            ],
            [
             0.5555555555555556,
             "#d8576b"
            ],
            [
             0.6666666666666666,
             "#ed7953"
            ],
            [
             0.7777777777777778,
             "#fb9f3a"
            ],
            [
             0.8888888888888888,
             "#fdca26"
            ],
            [
             1,
             "#f0f921"
            ]
           ],
           "sequentialminus": [
            [
             0,
             "#0d0887"
            ],
            [
             0.1111111111111111,
             "#46039f"
            ],
            [
             0.2222222222222222,
             "#7201a8"
            ],
            [
             0.3333333333333333,
             "#9c179e"
            ],
            [
             0.4444444444444444,
             "#bd3786"
            ],
            [
             0.5555555555555556,
             "#d8576b"
            ],
            [
             0.6666666666666666,
             "#ed7953"
            ],
            [
             0.7777777777777778,
             "#fb9f3a"
            ],
            [
             0.8888888888888888,
             "#fdca26"
            ],
            [
             1,
             "#f0f921"
            ]
           ]
          },
          "colorway": [
           "#636efa",
           "#EF553B",
           "#00cc96",
           "#ab63fa",
           "#FFA15A",
           "#19d3f3",
           "#FF6692",
           "#B6E880",
           "#FF97FF",
           "#FECB52"
          ],
          "font": {
           "color": "#2a3f5f"
          },
          "geo": {
           "bgcolor": "white",
           "lakecolor": "white",
           "landcolor": "white",
           "showlakes": true,
           "showland": true,
           "subunitcolor": "#C8D4E3"
          },
          "hoverlabel": {
           "align": "left"
          },
          "hovermode": "closest",
          "mapbox": {
           "style": "light"
          },
          "paper_bgcolor": "white",
          "plot_bgcolor": "white",
          "polar": {
           "angularaxis": {
            "gridcolor": "#EBF0F8",
            "linecolor": "#EBF0F8",
            "ticks": ""
           },
           "bgcolor": "white",
           "radialaxis": {
            "gridcolor": "#EBF0F8",
            "linecolor": "#EBF0F8",
            "ticks": ""
           }
          },
          "scene": {
           "xaxis": {
            "backgroundcolor": "white",
            "gridcolor": "#DFE8F3",
            "gridwidth": 2,
            "linecolor": "#EBF0F8",
            "showbackground": true,
            "ticks": "",
            "zerolinecolor": "#EBF0F8"
           },
           "yaxis": {
            "backgroundcolor": "white",
            "gridcolor": "#DFE8F3",
            "gridwidth": 2,
            "linecolor": "#EBF0F8",
            "showbackground": true,
            "ticks": "",
            "zerolinecolor": "#EBF0F8"
           },
           "zaxis": {
            "backgroundcolor": "white",
            "gridcolor": "#DFE8F3",
            "gridwidth": 2,
            "linecolor": "#EBF0F8",
            "showbackground": true,
            "ticks": "",
            "zerolinecolor": "#EBF0F8"
           }
          },
          "shapedefaults": {
           "line": {
            "color": "#2a3f5f"
           }
          },
          "ternary": {
           "aaxis": {
            "gridcolor": "#DFE8F3",
            "linecolor": "#A2B1C6",
            "ticks": ""
           },
           "baxis": {
            "gridcolor": "#DFE8F3",
            "linecolor": "#A2B1C6",
            "ticks": ""
           },
           "bgcolor": "white",
           "caxis": {
            "gridcolor": "#DFE8F3",
            "linecolor": "#A2B1C6",
            "ticks": ""
           }
          },
          "title": {
           "x": 0.05
          },
          "xaxis": {
           "automargin": true,
           "gridcolor": "#EBF0F8",
           "linecolor": "#EBF0F8",
           "ticks": "",
           "title": {
            "standoff": 15
           },
           "zerolinecolor": "#EBF0F8",
           "zerolinewidth": 2
          },
          "yaxis": {
           "automargin": true,
           "gridcolor": "#EBF0F8",
           "linecolor": "#EBF0F8",
           "ticks": "",
           "title": {
            "standoff": 15
           },
           "zerolinecolor": "#EBF0F8",
           "zerolinewidth": 2
          }
         }
        }
       }
      }
     },
     "metadata": {},
     "output_type": "display_data"
    }
   ],
   "source": [
    "### 거시경제지표를 대시보드형태로 만드는 프로세스\n",
    "\n",
    "import plotly.graph_objects as go\n",
    "import pandas as pd\n",
    "\n",
    "## 금리\n",
    "labels = [CD_rates.iloc[0,3], Korea_rates.iloc[0,3], Company_rates.iloc[0,3]]\n",
    "values = [float(CD_rates.iloc[-1,-1]), float(Korea_rates.iloc[-1,-1]), float(Company_rates.iloc[-1,-1])]\n",
    "\n",
    "# 조회한 마지막날짜를 출력하도록 설계 --> datetime.today로 오늘날짜를 출력하도록 할수도 있음\n",
    "dates = [rate_end_date[0:4] + '-' + rate_end_date[4:6] + '-' + rate_end_date[6:]] * 3\n",
    "changes = [(float(CD_rates.iloc[-1,-1]) - float(CD_rates.iloc[-2,-1]))/float(CD_rates.iloc[-2,-1]),\n",
    "            (float(Korea_rates.iloc[-1,-1]) - float(Korea_rates.iloc[-2,-1]))/float(Korea_rates.iloc[-2,-1]),\n",
    "            (float(Company_rates.iloc[-1,-1]) - float(Company_rates.iloc[-2,-1]))/float(Company_rates.iloc[-2,-1])]\n",
    "\n",
    "# 플롯 생성\n",
    "fig = go.Figure()\n",
    "\n",
    "# 각 지표를 별도의 텍스트 박스로 추가\n",
    "for i, (label, value, date, change) in enumerate(zip(labels, values, dates, changes)):\n",
    "    fig.add_trace(go.Indicator(\n",
    "        mode=\"number+delta\",\n",
    "        value=value,\n",
    "        number={'suffix': \" \"},\n",
    "        delta={'reference': value, 'relative': True, 'valueformat': '.2%'},\n",
    "        title={'text': f\"{label}<br><span style='font-size:0.8em;color:gray'>{date} / 변동: {change}</span>\"},\n",
    "        domain={'row': i // 2, 'column': i % 2}\n",
    "    ))\n",
    "\n",
    "# 그리드 레이아웃 설정\n",
    "fig.update_layout(\n",
    "    grid={'rows': 2, 'columns': 2, 'pattern': \"independent\"},\n",
    "    height=600,\n",
    "    margin=dict(l=20, r=20, t=30, b=30)\n",
    ")\n",
    "\n",
    "fig.show()\n",
    "\n",
    "## 환율\n",
    "## 주가지수\n",
    "## 원자재\n",
    "\n"
   ]
  },
  {
   "cell_type": "code",
   "execution_count": 8,
   "metadata": {},
   "outputs": [
    {
     "data": {
      "image/png": "[encoded data removed]",
      "text/plain": [
       "<Figure size 2000x1000 with 1 Axes>"
      ]
     },
     "metadata": {},
     "output_type": "display_data"
    },
    {
     "data": {
      "image/png": "[encoded data removed]",
      "text/plain": [
       "<Figure size 2000x1000 with 1 Axes>"
      ]
     },
     "metadata": {},
     "output_type": "display_data"
    },
    {
     "data": {
      "image/png": "[encoded data removed]",
      "text/plain": [
       "<Figure size 2000x1000 with 1 Axes>"
      ]
     },
     "metadata": {},
     "output_type": "display_data"
    }
   ],
   "source": [
    "### 해당 경제지표 DataFrame의 라인차트를 출력해주는 함수\n",
    "\n",
    "import matplotlib.pyplot as plt\n",
    "import pandas as pd\n",
    "\n",
    "import warnings\n",
    "warnings.filterwarnings(action='ignore')\n",
    "\n",
    "def print_linechart(df):\n",
    "\n",
    "    df_ = df.iloc[:,-2:]\n",
    "    df_.columns = ['기간', df.iloc[0,3]]  # 연도와 수치 dataframe화\n",
    "    df_.set_index('기간', inplace=True) # 1열 TIME을 index화\n",
    "    df_.index = pd.to_datetime(df_.index, format='%Y%m%d')\n",
    "    df_[df.iloc[0,3]] = df_[df.iloc[0,3]].astype(float)\n",
    "    \n",
    "\n",
    "    df_.plot(xlim=[df_.index[0], df_.index[-1]], ylim=(0,10), figsize=(20,10))\n",
    "    plt.show()\n",
    "\n",
    "    return \n",
    "\n",
    "print_linechart(CD_rates)\n",
    "print_linechart(Korea_rates)\n",
    "print_linechart(Company_rates)"
   ]
  },
  {
   "cell_type": "code",
   "execution_count": 9,
   "metadata": {},
   "outputs": [
    {
     "data": {
      "application/vnd.plotly.v1+json": {
       "config": {
        "plotlyServerURL": "https://plot.ly"
       },
       "data": [
        {
         "branchvalues": "total",
         "customdata": [
          [
           12441263812260,
           "전기가스업"
          ],
          [
           5595572980200,
           "서비스업"
          ],
          [
           12070936800000,
           "서비스업"
          ],
          [
           5680126497000,
           "전기전자"
          ],
          [
           9873577719200,
           "화학"
          ],
          [
           3698200000000,
           "기계"
          ],
          [
           4731858540000,
           "기계"
          ],
          [
           41390213090400,
           "의약품"
          ],
          [
           5351402980800,
           "화학"
          ],
          [
           13598300489400,
           "기계"
          ],
          [
           5292898310100,
           "운수장비"
          ],
          [
           11100168096480,
           "은행"
          ],
          [
           11742056979700,
           "기타제조업"
          ],
          [
           5662759918400,
           "의약품"
          ],
          [
           5613953296000,
           "기계"
          ],
          [
           3895246840800,
           "기타금융"
          ],
          [
           21379848720000,
           "전기전자"
          ],
          [
           4584016596000,
           "화학"
          ],
          [
           33743920770000,
           "철강금속"
          ],
          [
           7114088733500,
           "화학"
          ],
          [
           4610344620000,
           "서비스업"
          ],
          [
           6698464667800,
           "전기전자"
          ],
          [
           16058633598800,
           "기타금융"
          ],
          [
           29775041490000,
           "전기전자"
          ],
          [
           11214545000000,
           "운수장비"
          ],
          [
           5569285716900,
           "기타금융"
          ],
          [
           4976288917200,
           "화학"
          ],
          [
           10834409999590,
           "기타금융"
          ],
          [
           4134734321000,
           "기타금융"
          ],
          [
           9646375710800,
           "기타금융"
          ],
          [
           4071092503200,
           "전기전자"
          ],
          [
           4839660000000,
           "기타금융"
          ],
          [
           8082443508950,
           "운수창고업"
          ],
          [
           26543167175100,
           "유통업"
          ],
          [
           27601606113000,
           "화학"
          ],
          [
           45953652402900,
           "운수장비"
          ],
          [
           18620000000000,
           "보험"
          ],
          [
           12741380433000,
           "기타금융"
          ],
          [
           11297956787800,
           "통신업"
          ],
          [
           468030951920000,
           "전기전자"
          ],
          [
           6938553950000,
           "서비스업"
          ],
          [
           133806834687000,
           "전기전자"
          ],
          [
           4391138199000,
           "기타금융"
          ],
          [
           29931903874200,
           "서비스업"
          ],
          [
           4778014302300,
           "화학"
          ],
          [
           11374569117450,
           "은행"
          ],
          [
           15972026646400,
           "전기전자"
          ],
          [
           89271000000000,
           "전기전자"
          ],
          [
           4420597178100,
           "서비스업"
          ],
          [
           21259706338000,
           "운수장비"
          ],
          [
           12788573045760,
           "운수창고업"
          ],
          [
           4594299450000,
           "의약품"
          ],
          [
           6995040000000,
           "보험"
          ],
          [
           10171115446800,
           "운수장비"
          ],
          [
           5268965100000,
           "음식료품"
          ],
          [
           4114664446100,
           "운수장비"
          ],
          [
           18593879632800,
           "기타금융"
          ],
          [
           4066976530600,
           "서비스업"
          ],
          [
           5295000000000,
           "전기전자"
          ],
          [
           6165008260950,
           "서비스업"
          ],
          [
           10607503372000,
           "화학"
          ],
          [
           4272785856000,
           "기타금융"
          ],
          [
           5196000000000,
           "전기전자"
          ],
          [
           4588012083600,
           "기타금융"
          ],
          [
           51306966795000,
           "운수장비"
          ],
          [
           12550585933500,
           "서비스업"
          ],
          [
           3875180622000,
           "건설업"
          ],
          [
           53487635500000,
           "전기전자"
          ],
          [
           6888750000000,
           "운수창고업"
          ],
          [
           5572803552000,
           "화학"
          ],
          [
           7858278881600,
           "화학"
          ],
          [
           9206506463000,
           "통신업"
          ],
          [
           55586894000000,
           "의약품"
          ],
          [
           5526269484500,
           "전기전자"
          ],
          [
           11170771684000,
           "기타금융"
          ],
          [
           3926753150100,
           "화학"
          ],
          [
           4998000000000,
           "서비스업"
          ],
          [
           4344283041950,
           "통신업"
          ],
          [
           10328842472000,
           "철강금속"
          ],
          [
           24323525968500,
           "기타금융"
          ],
          [
           4188233758800,
           "화학"
          ],
          [
           9264113695000,
           "전기전자"
          ],
          [
           5506946214000,
           "운수장비"
          ],
          [
           8949600000000,
           "운수장비"
          ],
          [
           8101244387400,
           "유통업"
          ],
          [
           11337932284200,
           "기계"
          ],
          [
           5379429088500,
           "기타금융"
          ],
          [
           20928756007000,
           "서비스업"
          ],
          [
           8030524301600,
           "서비스업"
          ],
          [
           12738942146000,
           "운수장비"
          ],
          [
           4022651174000,
           "의약품"
          ],
          [
           4168976966270,
           "증권"
          ],
          [
           8596630000000,
           "서비스업"
          ],
          [
           11843489632200,
           "기타금융"
          ],
          [
           4787132640800,
           "기타금융"
          ],
          [
           15894257813500,
           "보험"
          ],
          [
           4210214516750,
           "철강금속"
          ],
          [
           32926503475200,
           "기타금융"
          ],
          [
           4732765443600,
           "증권"
          ],
          [
           11345972422400,
           "전기전자"
          ],
          [
           4391138199000,
           "기타금융"
          ],
          [
           5268965100000,
           "음식료품"
          ],
          [
           6995040000000,
           "보험"
          ],
          [
           4134734321000,
           "기타금융"
          ],
          [
           9646375710800,
           "기타금융"
          ],
          [
           5379429088500,
           "기타금융"
          ],
          [
           8596630000000,
           "서비스업"
          ],
          [
           9264113695000,
           "전기전자"
          ],
          [
           12738942146000,
           "운수장비"
          ],
          [
           12788573045760,
           "운수창고업"
          ],
          [
           32926503475200,
           "기타금융"
          ],
          [
           9206506463000,
           "통신업"
          ],
          [
           11742056979700,
           "기타제조업"
          ],
          [
           12741380433000,
           "기타금융"
          ],
          [
           5295000000000,
           "전기전자"
          ],
          [
           7114088733500,
           "화학"
          ],
          [
           89271000000000,
           "전기전자"
          ],
          [
           4344283041950,
           "통신업"
          ],
          [
           5526269484500,
           "전기전자"
          ],
          [
           15972026646400,
           "전기전자"
          ],
          [
           27601606113000,
           "화학"
          ],
          [
           3698200000000,
           "기계"
          ],
          [
           4839660000000,
           "기타금융"
          ],
          [
           5196000000000,
           "전기전자"
          ],
          [
           29931903874200,
           "서비스업"
          ],
          [
           4168976966270,
           "증권"
          ],
          [
           33743920770000,
           "철강금속"
          ],
          [
           7858278881600,
           "화학"
          ],
          [
           11843489632200,
           "기타금융"
          ],
          [
           4188233758800,
           "화학"
          ],
          [
           4594299450000,
           "의약품"
          ],
          [
           6938553950000,
           "서비스업"
          ],
          [
           11170771684000,
           "기타금융"
          ],
          [
           4071092503200,
           "전기전자"
          ],
          [
           10607503372000,
           "화학"
          ],
          [
           11297956787800,
           "통신업"
          ],
          [
           133806834687000,
           "전기전자"
          ],
          [
           10328842472000,
           "철강금속"
          ],
          [
           5572803552000,
           "화학"
          ],
          [
           3926753150100,
           "화학"
          ],
          [
           45953652402900,
           "운수장비"
          ],
          [
           11100168096480,
           "은행"
          ],
          [
           5595572980200,
           "서비스업"
          ],
          [
           8082443508950,
           "운수창고업"
          ],
          [
           4731858540000,
           "기계"
          ],
          [
           5613953296000,
           "기계"
          ],
          [
           11337932284200,
           "기계"
          ],
          [
           4778014302300,
           "화학"
          ],
          [
           5569285716900,
           "기타금융"
          ],
          [
           16058633598800,
           "기타금융"
          ],
          [
           4732765443600,
           "증권"
          ],
          [
           4998000000000,
           "서비스업"
          ],
          [
           29775041490000,
           "전기전자"
          ],
          [
           26543167175100,
           "유통업"
          ],
          [
           55586894000000,
           "의약품"
          ],
          [
           18620000000000,
           "보험"
          ],
          [
           12070936800000,
           "서비스업"
          ],
          [
           11345972422400,
           "전기전자"
          ],
          [
           468030951920000,
           "전기전자"
          ],
          [
           53487635500000,
           "전기전자"
          ],
          [
           8949600000000,
           "운수장비"
          ],
          [
           4588012083600,
           "기타금융"
          ],
          [
           15894257813500,
           "보험"
          ],
          [
           41390213090400,
           "의약품"
          ],
          [
           24323525968500,
           "기타금융"
          ],
          [
           9873577719200,
           "화학"
          ],
          [
           6698464667800,
           "전기전자"
          ],
          [
           4610344620000,
           "서비스업"
          ],
          [
           5680126497000,
           "전기전자"
          ],
          [
           10834409999590,
           "기타금융"
          ],
          [
           5662759918400,
           "의약품"
          ],
          [
           20928756007000,
           "서비스업"
          ],
          [
           11374569117450,
           "은행"
          ],
          [
           4787132640800,
           "기타금융"
          ],
          [
           4584016596000,
           "화학"
          ],
          [
           4420597178100,
           "서비스업"
          ],
          [
           12550585933500,
           "서비스업"
          ],
          [
           6165008260950,
           "서비스업"
          ],
          [
           8101244387400,
           "유통업"
          ],
          [
           21379848720000,
           "전기전자"
          ],
          [
           18593879632800,
           "기타금융"
          ],
          [
           8030524301600,
           "서비스업"
          ],
          [
           3895246840800,
           "기타금융"
          ],
          [
           12441263812260,
           "전기가스업"
          ],
          [
           5351402980800,
           "화학"
          ],
          [
           5292898310100,
           "운수장비"
          ],
          [
           13598300489400,
           "기계"
          ],
          [
           4022651174000,
           "의약품"
          ],
          [
           4272785856000,
           "기타금융"
          ],
          [
           4976288917200,
           "화학"
          ],
          [
           11214545000000,
           "운수장비"
          ],
          [
           10171115446800,
           "운수장비"
          ],
          [
           3875180622000,
           "건설업"
          ],
          [
           6888750000000,
           "운수창고업"
          ],
          [
           4114664446100,
           "운수장비"
          ],
          [
           21259706338000,
           "운수장비"
          ],
          [
           4066976530600,
           "서비스업"
          ],
          [
           4210214516750,
           "철강금속"
          ],
          [
           51306966795000,
           "운수장비"
          ],
          [
           5506946214000,
           "운수장비"
          ],
          [
           3875180622000,
           "건설업"
          ],
          [
           38980244609600,
           "기계"
          ],
          [
           189996394881490,
           "기타금융"
          ],
          [
           11742056979700,
           "기타제조업"
          ],
          [
           41509297813500,
           "보험"
          ],
          [
           128904390436150,
           "서비스업"
          ],
          [
           176509037098900,
           "운수장비"
          ],
          [
           27759766554710,
           "운수창고업"
          ],
          [
           34644411562500,
           "유통업"
          ],
          [
           22474737213930,
           "은행"
          ],
          [
           5268965100000,
           "음식료품"
          ],
          [
           111256817632800,
           "의약품"
          ],
          [
           12441263812260,
           "전기가스업"
          ],
          [
           864800378233300,
           "전기전자"
          ],
          [
           8901742409870,
           "증권"
          ],
          [
           48282977758750,
           "철강금속"
          ],
          [
           24848746292750,
           "통신업"
          ],
          [
           96432568076500,
           "화학"
          ]
         ],
         "domain": {
          "x": [
           0,
           1
          ],
          "y": [
           0,
           1
          ]
         },
         "hovertemplate": "labels=%{label}<br>Marcap=%{customdata[0]}<br>parent=%{parent}<br>id=%{id}<br>Sector=%{customdata[1]}<extra></extra>",
         "ids": [
          "전기가스업/한국전력/-5.92%",
          "서비스업/넷마블/-6.2%",
          "서비스업/삼성에스디에스/-0.45%",
          "전기전자/엘앤에프/+2.09%",
          "화학/아모레퍼시픽/-1.17%",
          "기계/LIG넥스원/+0.78%",
          "기계/두산로보틱스/-1.08%",
          "의약품/셀트리온/-1.09%",
          "화학/한국타이어앤테크놀로지/+0.47%",
          "기계/한미반도체/+0.43%",
          "운수장비/한국항공우주/+1.5%",
          "은행/기업은행/+0.29%",
          "기타제조업/KT&G/-0.55%",
          "의약품/유한양행/-1.4%",
          "기계/두산밥캣/+2.75%",
          "기타금융/한국금융지주/+0.14%",
          "전기전자/포스코퓨처엠/-1.6%",
          "화학/코스모신소재/-1.74%",
          "철강금속/POSCO홀딩스/-0.5%",
          "화학/LG생활건강/-2.25%",
          "서비스업/엔씨소프트/+2.94%",
          "전기전자/에코프로머티/-3.86%",
          "기타금융/메리츠금융지주/+2.31%",
          "전기전자/삼성SDI/+0.93%",
          "운수장비/한화에어로스페이스/+1.61%",
          "기타금융/맥쿼리인프라/-0.08%",
          "화학/한화솔루션/+0.52%",
          "기타금융/우리금융지주/+0.41%",
          "기타금융/GS/-0.11%",
          "기타금융/HD한국조선해양/+4.93%",
          "전기전자/SK아이이테크놀로지/-2.56%",
          "기타금융/LS/+3.66%",
          "운수창고업/대한항공/-0.23%",
          "유통업/삼성물산/-0.47%",
          "화학/LG화학/-1.51%",
          "운수장비/기아/+0.18%",
          "보험/삼성생명/+1.31%",
          "기타금융/LG/+1.5%",
          "통신업/SK텔레콤/+0.38%",
          "전기전자/삼성전자/-1.01%",
          "서비스업/SK바이오팜/-1.34%",
          "전기전자/SK하이닉스/+2.17%",
          "기타금융/CJ/+3.44%",
          "서비스업/NAVER/-2.28%",
          "화학/롯데케미칼/+2.85%",
          "은행/카카오뱅크/-0.83%",
          "전기전자/LG전자/+0.1%",
          "전기전자/LG에너지솔루션/-0.52%",
          "서비스업/코웨이/+0.34%",
          "운수장비/현대모비스/+0.0%",
          "운수창고업/HMM/+1.2%",
          "의약품/SK바이오사이언스/-0.17%",
          "보험/DB손해보험/+0.82%",
          "운수장비/한화오션/+4.9%",
          "음식료품/CJ제일제당/+4.17%",
          "운수장비/현대로템/+0.27%",
          "기타금융/하나금융지주/+2.42%",
          "서비스업/현대오토에버/+1.71%",
          "전기전자/LG디스플레이/-0.84%",
          "서비스업/포스코DX/-1.34%",
          "화학/SK이노베이션/-0.36%",
          "기타금융/한진칼/+0.0%",
          "전기전자/LS ELECTRIC/-2.7%",
          "기타금융/삼성카드/+0.13%",
          "운수장비/현대차/+1.45%",
          "서비스업/크래프톤/+0.19%",
          "건설업/현대건설/+0.0%",
          "전기전자/삼성전자우/+0.31%",
          "운수창고업/현대글로비스/+0.49%",
          "화학/금양/-2.34%",
          "화학/S-Oil/-0.85%",
          "통신업/KT/+0.0%",
          "의약품/삼성바이오로직스/-0.76%",
          "전기전자/LG이노텍/-0.21%",
          "기타금융/SK스퀘어/+3.11%",
          "화학/금호석유/+1.72%",
          "서비스업/삼성E&A/+0.0%",
          "통신업/LG유플러스/-0.3%",
          "철강금속/고려아연/-0.5%",
          "기타금융/신한지주/+0.0%",
          "화학/SKC/-1.16%",
          "전기전자/HD현대일렉트릭/-1.91%",
          "운수장비/현대차2우B/+0.13%",
          "운수장비/삼성중공업/+2.83%",
          "유통업/포스코인터내셔널/-1.81%",
          "기계/두산에너빌리티/+2.14%",
          "기타금융/HD현대/+3.18%",
          "서비스업/카카오/-1.67%",
          "서비스업/하이브/-3.84%",
          "운수장비/HD현대중공업/+5.28%",
          "의약품/한미약품/-1.41%",
          "증권/NH투자증권/+0.24%",
          "서비스업/HD현대마린솔루션/+7.09%",
          "기타금융/SK/-1.04%",
          "기타금융/카카오페이/-0.7%",
          "보험/삼성화재/+2.76%",
          "철강금속/현대제철/-0.47%",
          "기타금융/KB금융/+2.9%",
          "증권/미래에셋증권/-1.85%",
          "전기전자/삼성전기/-1.11%",
          "기타금융/CJ",
          "음식료품/CJ제일제당",
          "보험/DB손해보험",
          "기타금융/GS",
          "기타금융/HD한국조선해양",
          "기타금융/HD현대",
          "서비스업/HD현대마린솔루션",
          "전기전자/HD현대일렉트릭",
          "운수장비/HD현대중공업",
          "운수창고업/HMM",
          "기타금융/KB금융",
          "통신업/KT",
          "기타제조업/KT&G",
          "기타금융/LG",
          "전기전자/LG디스플레이",
          "화학/LG생활건강",
          "전기전자/LG에너지솔루션",
          "통신업/LG유플러스",
          "전기전자/LG이노텍",
          "전기전자/LG전자",
          "화학/LG화학",
          "기계/LIG넥스원",
          "기타금융/LS",
          "전기전자/LS ELECTRIC",
          "서비스업/NAVER",
          "증권/NH투자증권",
          "철강금속/POSCO홀딩스",
          "화학/S-Oil",
          "기타금융/SK",
          "화학/SKC",
          "의약품/SK바이오사이언스",
          "서비스업/SK바이오팜",
          "기타금융/SK스퀘어",
          "전기전자/SK아이이테크놀로지",
          "화학/SK이노베이션",
          "통신업/SK텔레콤",
          "전기전자/SK하이닉스",
          "철강금속/고려아연",
          "화학/금양",
          "화학/금호석유",
          "운수장비/기아",
          "은행/기업은행",
          "서비스업/넷마블",
          "운수창고업/대한항공",
          "기계/두산로보틱스",
          "기계/두산밥캣",
          "기계/두산에너빌리티",
          "화학/롯데케미칼",
          "기타금융/맥쿼리인프라",
          "기타금융/메리츠금융지주",
          "증권/미래에셋증권",
          "서비스업/삼성E&A",
          "전기전자/삼성SDI",
          "유통업/삼성물산",
          "의약품/삼성바이오로직스",
          "보험/삼성생명",
          "서비스업/삼성에스디에스",
          "전기전자/삼성전기",
          "전기전자/삼성전자",
          "전기전자/삼성전자우",
          "운수장비/삼성중공업",
          "기타금융/삼성카드",
          "보험/삼성화재",
          "의약품/셀트리온",
          "기타금융/신한지주",
          "화학/아모레퍼시픽",
          "전기전자/에코프로머티",
          "서비스업/엔씨소프트",
          "전기전자/엘앤에프",
          "기타금융/우리금융지주",
          "의약품/유한양행",
          "서비스업/카카오",
          "은행/카카오뱅크",
          "기타금융/카카오페이",
          "화학/코스모신소재",
          "서비스업/코웨이",
          "서비스업/크래프톤",
          "서비스업/포스코DX",
          "유통업/포스코인터내셔널",
          "전기전자/포스코퓨처엠",
          "기타금융/하나금융지주",
          "서비스업/하이브",
          "기타금융/한국금융지주",
          "전기가스업/한국전력",
          "화학/한국타이어앤테크놀로지",
          "운수장비/한국항공우주",
          "기계/한미반도체",
          "의약품/한미약품",
          "기타금융/한진칼",
          "화학/한화솔루션",
          "운수장비/한화에어로스페이스",
          "운수장비/한화오션",
          "건설업/현대건설",
          "운수창고업/현대글로비스",
          "운수장비/현대로템",
          "운수장비/현대모비스",
          "서비스업/현대오토에버",
          "철강금속/현대제철",
          "운수장비/현대차",
          "운수장비/현대차2우B",
          "건설업",
          "기계",
          "기타금융",
          "기타제조업",
          "보험",
          "서비스업",
          "운수장비",
          "운수창고업",
          "유통업",
          "은행",
          "음식료품",
          "의약품",
          "전기가스업",
          "전기전자",
          "증권",
          "철강금속",
          "통신업",
          "화학"
         ],
         "labels": [
          "-5.92%",
          "-6.2%",
          "-0.45%",
          "+2.09%",
          "-1.17%",
          "+0.78%",
          "-1.08%",
          "-1.09%",
          "+0.47%",
          "+0.43%",
          "+1.5%",
          "+0.29%",
          "-0.55%",
          "-1.4%",
          "+2.75%",
          "+0.14%",
          "-1.6%",
          "-1.74%",
          "-0.5%",
          "-2.25%",
          "+2.94%",
          "-3.86%",
          "+2.31%",
          "+0.93%",
          "+1.61%",
          "-0.08%",
          "+0.52%",
          "+0.41%",
          "-0.11%",
          "+4.93%",
          "-2.56%",
          "+3.66%",
          "-0.23%",
          "-0.47%",
          "-1.51%",
          "+0.18%",
          "+1.31%",
          "+1.5%",
          "+0.38%",
          "-1.01%",
          "-1.34%",
          "+2.17%",
          "+3.44%",
          "-2.28%",
          "+2.85%",
          "-0.83%",
          "+0.1%",
          "-0.52%",
          "+0.34%",
          "+0.0%",
          "+1.2%",
          "-0.17%",
          "+0.82%",
          "+4.9%",
          "+4.17%",
          "+0.27%",
          "+2.42%",
          "+1.71%",
          "-0.84%",
          "-1.34%",
          "-0.36%",
          "+0.0%",
          "-2.7%",
          "+0.13%",
          "+1.45%",
          "+0.19%",
          "+0.0%",
          "+0.31%",
          "+0.49%",
          "-2.34%",
          "-0.85%",
          "+0.0%",
          "-0.76%",
          "-0.21%",
          "+3.11%",
          "+1.72%",
          "+0.0%",
          "-0.3%",
          "-0.5%",
          "+0.0%",
          "-1.16%",
          "-1.91%",
          "+0.13%",
          "+2.83%",
          "-1.81%",
          "+2.14%",
          "+3.18%",
          "-1.67%",
          "-3.84%",
          "+5.28%",
          "-1.41%",
          "+0.24%",
          "+7.09%",
          "-1.04%",
          "-0.7%",
          "+2.76%",
          "-0.47%",
          "+2.9%",
          "-1.85%",
          "-1.11%",
          "CJ",
          "CJ제일제당",
          "DB손해보험",
          "GS",
          "HD한국조선해양",
          "HD현대",
          "HD현대마린솔루션",
          "HD현대일렉트릭",
          "HD현대중공업",
          "HMM",
          "KB금융",
          "KT",
          "KT&G",
          "LG",
          "LG디스플레이",
          "LG생활건강",
          "LG에너지솔루션",
          "LG유플러스",
          "LG이노텍",
          "LG전자",
          "LG화학",
          "LIG넥스원",
          "LS",
          "LS ELECTRIC",
          "NAVER",
          "NH투자증권",
          "POSCO홀딩스",
          "S-Oil",
          "SK",
          "SKC",
          "SK바이오사이언스",
          "SK바이오팜",
          "SK스퀘어",
          "SK아이이테크놀로지",
          "SK이노베이션",
          "SK텔레콤",
          "SK하이닉스",
          "고려아연",
          "금양",
          "금호석유",
          "기아",
          "기업은행",
          "넷마블",
          "대한항공",
          "두산로보틱스",
          "두산밥캣",
          "두산에너빌리티",
          "롯데케미칼",
          "맥쿼리인프라",
          "메리츠금융지주",
          "미래에셋증권",
          "삼성E&A",
          "삼성SDI",
          "삼성물산",
          "삼성바이오로직스",
          "삼성생명",
          "삼성에스디에스",
          "삼성전기",
          "삼성전자",
          "삼성전자우",
          "삼성중공업",
          "삼성카드",
          "삼성화재",
          "셀트리온",
          "신한지주",
          "아모레퍼시픽",
          "에코프로머티",
          "엔씨소프트",
          "엘앤에프",
          "우리금융지주",
          "유한양행",
          "카카오",
          "카카오뱅크",
          "카카오페이",
          "코스모신소재",
          "코웨이",
          "크래프톤",
          "포스코DX",
          "포스코인터내셔널",
          "포스코퓨처엠",
          "하나금융지주",
          "하이브",
          "한국금융지주",
          "한국전력",
          "한국타이어앤테크놀로지",
          "한국항공우주",
          "한미반도체",
          "한미약품",
          "한진칼",
          "한화솔루션",
          "한화에어로스페이스",
          "한화오션",
          "현대건설",
          "현대글로비스",
          "현대로템",
          "현대모비스",
          "현대오토에버",
          "현대제철",
          "현대차",
          "현대차2우B",
          "건설업",
          "기계",
          "기타금융",
          "기타제조업",
          "보험",
          "서비스업",
          "운수장비",
          "운수창고업",
          "유통업",
          "은행",
          "음식료품",
          "의약품",
          "전기가스업",
          "전기전자",
          "증권",
          "철강금속",
          "통신업",
          "화학"
         ],
         "marker": {
          "colors": [
           "#636efa",
           "#EF553B",
           "#EF553B",
           "#00cc96",
           "#ab63fa",
           "#FFA15A",
           "#FFA15A",
           "#19d3f3",
           "#ab63fa",
           "#FFA15A",
           "#FF6692",
           "#B6E880",
           "#FF97FF",
           "#19d3f3",
           "#FFA15A",
           "#FECB52",
           "#00cc96",
           "#ab63fa",
           "#636efa",
           "#ab63fa",
           "#EF553B",
           "#00cc96",
           "#FECB52",
           "#00cc96",
           "#FF6692",
           "#FECB52",
           "#ab63fa",
           "#FECB52",
           "#FECB52",
           "#FECB52",
           "#00cc96",
           "#FECB52",
           "#EF553B",
           "#00cc96",
           "#ab63fa",
           "#FF6692",
           "#ab63fa",
           "#FECB52",
           "#FFA15A",
           "#00cc96",
           "#EF553B",
           "#00cc96",
           "#FECB52",
           "#EF553B",
           "#ab63fa",
           "#B6E880",
           "#00cc96",
           "#00cc96",
           "#EF553B",
           "#FF6692",
           "#EF553B",
           "#19d3f3",
           "#ab63fa",
           "#FF6692",
           "#19d3f3",
           "#FF6692",
           "#FECB52",
           "#EF553B",
           "#00cc96",
           "#EF553B",
           "#ab63fa",
           "#FECB52",
           "#00cc96",
           "#FECB52",
           "#FF6692",
           "#EF553B",
           "#FF6692",
           "#00cc96",
           "#EF553B",
           "#ab63fa",
           "#ab63fa",
           "#FFA15A",
           "#19d3f3",
           "#00cc96",
           "#FECB52",
           "#ab63fa",
           "#EF553B",
           "#FFA15A",
           "#636efa",
           "#FECB52",
           "#ab63fa",
           "#00cc96",
           "#FF6692",
           "#FF6692",
           "#00cc96",
           "#FFA15A",
           "#FECB52",
           "#EF553B",
           "#EF553B",
           "#FF6692",
           "#19d3f3",
           "#B6E880",
           "#EF553B",
           "#FECB52",
           "#FECB52",
           "#ab63fa",
           "#636efa",
           "#FECB52",
           "#B6E880",
           "#00cc96",
           "#FECB52",
           "#19d3f3",
           "#ab63fa",
           "#FECB52",
           "#FECB52",
           "#FECB52",
           "#EF553B",
           "#00cc96",
           "#FF6692",
           "#EF553B",
           "#FECB52",
           "#FFA15A",
           "#FF97FF",
           "#FECB52",
           "#00cc96",
           "#ab63fa",
           "#00cc96",
           "#FFA15A",
           "#00cc96",
           "#00cc96",
           "#ab63fa",
           "#FFA15A",
           "#FECB52",
           "#00cc96",
           "#EF553B",
           "#B6E880",
           "#636efa",
           "#ab63fa",
           "#FECB52",
           "#ab63fa",
           "#19d3f3",
           "#EF553B",
           "#FECB52",
           "#00cc96",
           "#ab63fa",
           "#FFA15A",
           "#00cc96",
           "#636efa",
           "#ab63fa",
           "#ab63fa",
           "#FF6692",
           "#B6E880",
           "#EF553B",
           "#EF553B",
           "#FFA15A",
           "#FFA15A",
           "#FFA15A",
           "#ab63fa",
           "#FECB52",
           "#FECB52",
           "#B6E880",
           "#EF553B",
           "#00cc96",
           "#00cc96",
           "#19d3f3",
           "#ab63fa",
           "#EF553B",
           "#00cc96",
           "#00cc96",
           "#00cc96",
           "#FF6692",
           "#FECB52",
           "#ab63fa",
           "#19d3f3",
           "#FECB52",
           "#ab63fa",
           "#00cc96",
           "#EF553B",
           "#00cc96",
           "#FECB52",
           "#19d3f3",
           "#EF553B",
           "#B6E880",
           "#FECB52",
           "#ab63fa",
           "#EF553B",
           "#EF553B",
           "#EF553B",
           "#00cc96",
           "#00cc96",
           "#FECB52",
           "#EF553B",
           "#FECB52",
           "#636efa",
           "#ab63fa",
           "#FF6692",
           "#FFA15A",
           "#19d3f3",
           "#FECB52",
           "#ab63fa",
           "#FF6692",
           "#FF6692",
           "#FF6692",
           "#EF553B",
           "#FF6692",
           "#FF6692",
           "#EF553B",
           "#636efa",
           "#FF6692",
           "#FF6692",
           "#FF6692",
           "#FFA15A",
           "#FECB52",
           "#FF97FF",
           "#ab63fa",
           "#EF553B",
           "#FF6692",
           "#EF553B",
           "#00cc96",
           "#B6E880",
           "#19d3f3",
           "#19d3f3",
           "#636efa",
           "#00cc96",
           "#B6E880",
           "#636efa",
           "#FFA15A",
           "#ab63fa"
          ]
         },
         "name": "",
         "parents": [
          "전기가스업/한국전력",
          "서비스업/넷마블",
          "서비스업/삼성에스디에스",
          "전기전자/엘앤에프",
          "화학/아모레퍼시픽",
          "기계/LIG넥스원",
          "기계/두산로보틱스",
          "의약품/셀트리온",
          "화학/한국타이어앤테크놀로지",
          "기계/한미반도체",
          "운수장비/한국항공우주",
          "은행/기업은행",
          "기타제조업/KT&G",
          "의약품/유한양행",
          "기계/두산밥캣",
          "기타금융/한국금융지주",
          "전기전자/포스코퓨처엠",
          "화학/코스모신소재",
          "철강금속/POSCO홀딩스",
          "화학/LG생활건강",
          "서비스업/엔씨소프트",
          "전기전자/에코프로머티",
          "기타금융/메리츠금융지주",
          "전기전자/삼성SDI",
          "운수장비/한화에어로스페이스",
          "기타금융/맥쿼리인프라",
          "화학/한화솔루션",
          "기타금융/우리금융지주",
          "기타금융/GS",
          "기타금융/HD한국조선해양",
          "전기전자/SK아이이테크놀로지",
          "기타금융/LS",
          "운수창고업/대한항공",
          "유통업/삼성물산",
          "화학/LG화학",
          "운수장비/기아",
          "보험/삼성생명",
          "기타금융/LG",
          "통신업/SK텔레콤",
          "전기전자/삼성전자",
          "서비스업/SK바이오팜",
          "전기전자/SK하이닉스",
          "기타금융/CJ",
          "서비스업/NAVER",
          "화학/롯데케미칼",
          "은행/카카오뱅크",
          "전기전자/LG전자",
          "전기전자/LG에너지솔루션",
          "서비스업/코웨이",
          "운수장비/현대모비스",
          "운수창고업/HMM",
          "의약품/SK바이오사이언스",
          "보험/DB손해보험",
          "운수장비/한화오션",
          "음식료품/CJ제일제당",
          "운수장비/현대로템",
          "기타금융/하나금융지주",
          "서비스업/현대오토에버",
          "전기전자/LG디스플레이",
          "서비스업/포스코DX",
          "화학/SK이노베이션",
          "기타금융/한진칼",
          "전기전자/LS ELECTRIC",
          "기타금융/삼성카드",
          "운수장비/현대차",
          "서비스업/크래프톤",
          "건설업/현대건설",
          "전기전자/삼성전자우",
          "운수창고업/현대글로비스",
          "화학/금양",
          "화학/S-Oil",
          "통신업/KT",
          "의약품/삼성바이오로직스",
          "전기전자/LG이노텍",
          "기타금융/SK스퀘어",
          "화학/금호석유",
          "서비스업/삼성E&A",
          "통신업/LG유플러스",
          "철강금속/고려아연",
          "기타금융/신한지주",
          "화학/SKC",
          "전기전자/HD현대일렉트릭",
          "운수장비/현대차2우B",
          "운수장비/삼성중공업",
          "유통업/포스코인터내셔널",
          "기계/두산에너빌리티",
          "기타금융/HD현대",
          "서비스업/카카오",
          "서비스업/하이브",
          "운수장비/HD현대중공업",
          "의약품/한미약품",
          "증권/NH투자증권",
          "서비스업/HD현대마린솔루션",
          "기타금융/SK",
          "기타금융/카카오페이",
          "보험/삼성화재",
          "철강금속/현대제철",
          "기타금융/KB금융",
          "증권/미래에셋증권",
          "전기전자/삼성전기",
          "기타금융",
          "음식료품",
          "보험",
          "기타금융",
          "기타금융",
          "기타금융",
          "서비스업",
          "전기전자",
          "운수장비",
          "운수창고업",
          "기타금융",
          "통신업",
          "기타제조업",
          "기타금융",
          "전기전자",
          "화학",
          "전기전자",
          "통신업",
          "전기전자",
          "전기전자",
          "화학",
          "기계",
          "기타금융",
          "전기전자",
          "서비스업",
          "증권",
          "철강금속",
          "화학",
          "기타금융",
          "화학",
          "의약품",
          "서비스업",
          "기타금융",
          "전기전자",
          "화학",
          "통신업",
          "전기전자",
          "철강금속",
          "화학",
          "화학",
          "운수장비",
          "은행",
          "서비스업",
          "운수창고업",
          "기계",
          "기계",
          "기계",
          "화학",
          "기타금융",
          "기타금융",
          "증권",
          "서비스업",
          "전기전자",
          "유통업",
          "의약품",
          "보험",
          "서비스업",
          "전기전자",
          "전기전자",
          "전기전자",
          "운수장비",
          "기타금융",
          "보험",
          "의약품",
          "기타금융",
          "화학",
          "전기전자",
          "서비스업",
          "전기전자",
          "기타금융",
          "의약품",
          "서비스업",
          "은행",
          "기타금융",
          "화학",
          "서비스업",
          "서비스업",
          "서비스업",
          "유통업",
          "전기전자",
          "기타금융",
          "서비스업",
          "기타금융",
          "전기가스업",
          "화학",
          "운수장비",
          "기계",
          "의약품",
          "기타금융",
          "화학",
          "운수장비",
          "운수장비",
          "건설업",
          "운수창고업",
          "운수장비",
          "운수장비",
          "서비스업",
          "철강금속",
          "운수장비",
          "운수장비",
          "",
          "",
          "",
          "",
          "",
          "",
          "",
          "",
          "",
          "",
          "",
          "",
          "",
          "",
          "",
          "",
          "",
          ""
         ],
         "type": "treemap",
         "values": [
          12441263812260,
          5595572980200,
          12070936800000,
          5680126497000,
          9873577719200,
          3698200000000,
          4731858540000,
          41390213090400,
          5351402980800,
          13598300489400,
          5292898310100,
          11100168096480,
          11742056979700,
          5662759918400,
          5613953296000,
          3895246840800,
          21379848720000,
          4584016596000,
          33743920770000,
          7114088733500,
          4610344620000,
          6698464667800,
          16058633598800,
          29775041490000,
          11214545000000,
          5569285716900,
          4976288917200,
          10834409999590,
          4134734321000,
          9646375710800,
          4071092503200,
          4839660000000,
          8082443508950,
          26543167175100,
          27601606113000,
          45953652402900,
          18620000000000,
          12741380433000,
          11297956787800,
          468030951920000,
          6938553950000,
          133806834687000,
          4391138199000,
          29931903874200,
          4778014302300,
          11374569117450,
          15972026646400,
          89271000000000,
          4420597178100,
          21259706338000,
          12788573045760,
          4594299450000,
          6995040000000,
          10171115446800,
          5268965100000,
          4114664446100,
          18593879632800,
          4066976530600,
          5295000000000,
          6165008260950,
          10607503372000,
          4272785856000,
          5196000000000,
          4588012083600,
          51306966795000,
          12550585933500,
          3875180622000,
          53487635500000,
          6888750000000,
          5572803552000,
          7858278881600,
          9206506463000,
          55586894000000,
          5526269484500,
          11170771684000,
          3926753150100,
          4998000000000,
          4344283041950,
          10328842472000,
          24323525968500,
          4188233758800,
          9264113695000,
          5506946214000,
          8949600000000,
          8101244387400,
          11337932284200,
          5379429088500,
          20928756007000,
          8030524301600,
          12738942146000,
          4022651174000,
          4168976966270,
          8596630000000,
          11843489632200,
          4787132640800,
          15894257813500,
          4210214516750,
          32926503475200,
          4732765443600,
          11345972422400,
          4391138199000,
          5268965100000,
          6995040000000,
          4134734321000,
          9646375710800,
          5379429088500,
          8596630000000,
          9264113695000,
          12738942146000,
          12788573045760,
          32926503475200,
          9206506463000,
          11742056979700,
          12741380433000,
          5295000000000,
          7114088733500,
          89271000000000,
          4344283041950,
          5526269484500,
          15972026646400,
          27601606113000,
          3698200000000,
          4839660000000,
          5196000000000,
          29931903874200,
          4168976966270,
          33743920770000,
          7858278881600,
          11843489632200,
          4188233758800,
          4594299450000,
          6938553950000,
          11170771684000,
          4071092503200,
          10607503372000,
          11297956787800,
          133806834687000,
          10328842472000,
          5572803552000,
          3926753150100,
          45953652402900,
          11100168096480,
          5595572980200,
          8082443508950,
          4731858540000,
          5613953296000,
          11337932284200,
          4778014302300,
          5569285716900,
          16058633598800,
          4732765443600,
          4998000000000,
          29775041490000,
          26543167175100,
          55586894000000,
          18620000000000,
          12070936800000,
          11345972422400,
          468030951920000,
          53487635500000,
          8949600000000,
          4588012083600,
          15894257813500,
          41390213090400,
          24323525968500,
          9873577719200,
          6698464667800,
          4610344620000,
          5680126497000,
          10834409999590,
          5662759918400,
          20928756007000,
          11374569117450,
          4787132640800,
          4584016596000,
          4420597178100,
          12550585933500,
          6165008260950,
          8101244387400,
          21379848720000,
          18593879632800,
          8030524301600,
          3895246840800,
          12441263812260,
          5351402980800,
          5292898310100,
          13598300489400,
          4022651174000,
          4272785856000,
          4976288917200,
          11214545000000,
          10171115446800,
          3875180622000,
          6888750000000,
          4114664446100,
          21259706338000,
          4066976530600,
          4210214516750,
          51306966795000,
          5506946214000,
          3875180622000,
          38980244609600,
          189996394881490,
          11742056979700,
          41509297813500,
          128904390436150,
          176509037098900,
          27759766554710,
          34644411562500,
          22474737213930,
          5268965100000,
          111256817632800,
          12441263812260,
          864800378233300,
          8901742409870,
          48282977758750,
          24848746292750,
          96432568076500
         ]
        }
       ],
       "layout": {
        "legend": {
         "tracegroupgap": 0
        },
        "template": {
         "data": {
          "bar": [
           {
            "error_x": {
             "color": "#2a3f5f"
            },
            "error_y": {
             "color": "#2a3f5f"
            },
            "marker": {
             "line": {
              "color": "white",
              "width": 0.5
             },
             "pattern": {
              "fillmode": "overlay",
              "size": 10,
              "solidity": 0.2
             }
            },
            "type": "bar"
           }
          ],
          "barpolar": [
           {
            "marker": {
             "line": {
              "color": "white",
              "width": 0.5
             },
             "pattern": {
              "fillmode": "overlay",
              "size": 10,
              "solidity": 0.2
             }
            },
            "type": "barpolar"
           }
          ],
          "carpet": [
           {
            "aaxis": {
             "endlinecolor": "#2a3f5f",
             "gridcolor": "#C8D4E3",
             "linecolor": "#C8D4E3",
             "minorgridcolor": "#C8D4E3",
             "startlinecolor": "#2a3f5f"
            },
            "baxis": {
             "endlinecolor": "#2a3f5f",
             "gridcolor": "#C8D4E3",
             "linecolor": "#C8D4E3",
             "minorgridcolor": "#C8D4E3",
             "startlinecolor": "#2a3f5f"
            },
            "type": "carpet"
           }
          ],
          "choropleth": [
           {
            "colorbar": {
             "outlinewidth": 0,
             "ticks": ""
            },
            "type": "choropleth"
           }
          ],
          "contour": [
           {
            "colorbar": {
             "outlinewidth": 0,
             "ticks": ""
            },
            "colorscale": [
             [
              0,
              "#0d0887"
             ],
             [
              0.1111111111111111,
              "#46039f"
             ],
             [
              0.2222222222222222,
              "#7201a8"
             ],
             [
              0.3333333333333333,
              "#9c179e"
             ],
             [
              0.4444444444444444,
              "#bd3786"
             ],
             [
              0.5555555555555556,
              "#d8576b"
             ],
             [
              0.6666666666666666,
              "#ed7953"
             ],
             [
              0.7777777777777778,
              "#fb9f3a"
             ],
             [
              0.8888888888888888,
              "#fdca26"
             ],
             [
              1,
              "#f0f921"
             ]
            ],
            "type": "contour"
           }
          ],
          "contourcarpet": [
           {
            "colorbar": {
             "outlinewidth": 0,
             "ticks": ""
            },
            "type": "contourcarpet"
           }
          ],
          "heatmap": [
           {
            "colorbar": {
             "outlinewidth": 0,
             "ticks": ""
            },
            "colorscale": [
             [
              0,
              "#0d0887"
             ],
             [
              0.1111111111111111,
              "#46039f"
             ],
             [
              0.2222222222222222,
              "#7201a8"
             ],
             [
              0.3333333333333333,
              "#9c179e"
             ],
             [
              0.4444444444444444,
              "#bd3786"
             ],
             [
              0.5555555555555556,
              "#d8576b"
             ],
             [
              0.6666666666666666,
              "#ed7953"
             ],
             [
              0.7777777777777778,
              "#fb9f3a"
             ],
             [
              0.8888888888888888,
              "#fdca26"
             ],
             [
              1,
              "#f0f921"
             ]
            ],
            "type": "heatmap"
           }
          ],
          "heatmapgl": [
           {
            "colorbar": {
             "outlinewidth": 0,
             "ticks": ""
            },
            "colorscale": [
             [
              0,
              "#0d0887"
             ],
             [
              0.1111111111111111,
              "#46039f"
             ],
             [
              0.2222222222222222,
              "#7201a8"
             ],
             [
              0.3333333333333333,
              "#9c179e"
             ],
             [
              0.4444444444444444,
              "#bd3786"
             ],
             [
              0.5555555555555556,
              "#d8576b"
             ],
             [
              0.6666666666666666,
              "#ed7953"
             ],
             [
              0.7777777777777778,
              "#fb9f3a"
             ],
             [
              0.8888888888888888,
              "#fdca26"
             ],
             [
              1,
              "#f0f921"
             ]
            ],
            "type": "heatmapgl"
           }
          ],
          "histogram": [
           {
            "marker": {
             "pattern": {
              "fillmode": "overlay",
              "size": 10,
              "solidity": 0.2
             }
            },
            "type": "histogram"
           }
          ],
          "histogram2d": [
           {
            "colorbar": {
             "outlinewidth": 0,
             "ticks": ""
            },
            "colorscale": [
             [
              0,
              "#0d0887"
             ],
             [
              0.1111111111111111,
              "#46039f"
             ],
             [
              0.2222222222222222,
              "#7201a8"
             ],
             [
              0.3333333333333333,
              "#9c179e"
             ],
             [
              0.4444444444444444,
              "#bd3786"
             ],
             [
              0.5555555555555556,
              "#d8576b"
             ],
             [
              0.6666666666666666,
              "#ed7953"
             ],
             [
              0.7777777777777778,
              "#fb9f3a"
             ],
             [
              0.8888888888888888,
              "#fdca26"
             ],
             [
              1,
              "#f0f921"
             ]
            ],
            "type": "histogram2d"
           }
          ],
          "histogram2dcontour": [
           {
            "colorbar": {
             "outlinewidth": 0,
             "ticks": ""
            },
            "colorscale": [
             [
              0,
              "#0d0887"
             ],
             [
              0.1111111111111111,
              "#46039f"
             ],
             [
              0.2222222222222222,
              "#7201a8"
             ],
             [
              0.3333333333333333,
              "#9c179e"
             ],
             [
              0.4444444444444444,
              "#bd3786"
             ],
             [
              0.5555555555555556,
              "#d8576b"
             ],
             [
              0.6666666666666666,
              "#ed7953"
             ],
             [
              0.7777777777777778,
              "#fb9f3a"
             ],
             [
              0.8888888888888888,
              "#fdca26"
             ],
             [
              1,
              "#f0f921"
             ]
            ],
            "type": "histogram2dcontour"
           }
          ],
          "mesh3d": [
           {
            "colorbar": {
             "outlinewidth": 0,
             "ticks": ""
            },
            "type": "mesh3d"
           }
          ],
          "parcoords": [
           {
            "line": {
             "colorbar": {
              "outlinewidth": 0,
              "ticks": ""
             }
            },
            "type": "parcoords"
           }
          ],
          "pie": [
           {
            "automargin": true,
            "type": "pie"
           }
          ],
          "scatter": [
           {
            "fillpattern": {
             "fillmode": "overlay",
             "size": 10,
             "solidity": 0.2
            },
            "type": "scatter"
           }
          ],
          "scatter3d": [
           {
            "line": {
             "colorbar": {
              "outlinewidth": 0,
              "ticks": ""
             }
            },
            "marker": {
             "colorbar": {
              "outlinewidth": 0,
              "ticks": ""
             }
            },
            "type": "scatter3d"
           }
          ],
          "scattercarpet": [
           {
            "marker": {
             "colorbar": {
              "outlinewidth": 0,
              "ticks": ""
             }
            },
            "type": "scattercarpet"
           }
          ],
          "scattergeo": [
           {
            "marker": {
             "colorbar": {
              "outlinewidth": 0,
              "ticks": ""
             }
            },
            "type": "scattergeo"
           }
          ],
          "scattergl": [
           {
            "marker": {
             "colorbar": {
              "outlinewidth": 0,
              "ticks": ""
             }
            },
            "type": "scattergl"
           }
          ],
          "scattermapbox": [
           {
            "marker": {
             "colorbar": {
              "outlinewidth": 0,
              "ticks": ""
             }
            },
            "type": "scattermapbox"
           }
          ],
          "scatterpolar": [
           {
            "marker": {
             "colorbar": {
              "outlinewidth": 0,
              "ticks": ""
             }
            },
            "type": "scatterpolar"
           }
          ],
          "scatterpolargl": [
           {
            "marker": {
             "colorbar": {
              "outlinewidth": 0,
              "ticks": ""
             }
            },
            "type": "scatterpolargl"
           }
          ],
          "scatterternary": [
           {
            "marker": {
             "colorbar": {
              "outlinewidth": 0,
              "ticks": ""
             }
            },
            "type": "scatterternary"
           }
          ],
          "surface": [
           {
            "colorbar": {
             "outlinewidth": 0,
             "ticks": ""
            },
            "colorscale": [
             [
              0,
              "#0d0887"
             ],
             [
              0.1111111111111111,
              "#46039f"
             ],
             [
              0.2222222222222222,
              "#7201a8"
             ],
             [
              0.3333333333333333,
              "#9c179e"
             ],
             [
              0.4444444444444444,
              "#bd3786"
             ],
             [
              0.5555555555555556,
              "#d8576b"
             ],
             [
              0.6666666666666666,
              "#ed7953"
             ],
             [
              0.7777777777777778,
              "#fb9f3a"
             ],
             [
              0.8888888888888888,
              "#fdca26"
             ],
             [
              1,
              "#f0f921"
             ]
            ],
            "type": "surface"
           }
          ],
          "table": [
           {
            "cells": {
             "fill": {
              "color": "#EBF0F8"
             },
             "line": {
              "color": "white"
             }
            },
            "header": {
             "fill": {
              "color": "#C8D4E3"
             },
             "line": {
              "color": "white"
             }
            },
            "type": "table"
           }
          ]
         },
         "layout": {
          "annotationdefaults": {
           "arrowcolor": "#2a3f5f",
           "arrowhead": 0,
           "arrowwidth": 1
          },
          "autotypenumbers": "strict",
          "coloraxis": {
           "colorbar": {
            "outlinewidth": 0,
            "ticks": ""
           }
          },
          "colorscale": {
           "diverging": [
            [
             0,
             "#8e0152"
            ],
            [
             0.1,
             "#c51b7d"
            ],
            [
             0.2,
             "#de77ae"
            ],
            [
             0.3,
             "#f1b6da"
            ],
            [
             0.4,
             "#fde0ef"
            ],
            [
             0.5,
             "#f7f7f7"
            ],
            [
             0.6,
             "#e6f5d0"
            ],
            [
             0.7,
             "#b8e186"
            ],
            [
             0.8,
             "#7fbc41"
            ],
            [
             0.9,
             "#4d9221"
            ],
            [
             1,
             "#276419"
            ]
           ],
           "sequential": [
            [
             0,
             "#0d0887"
            ],
            [
             0.1111111111111111,
             "#46039f"
            ],
            [
             0.2222222222222222,
             "#7201a8"
            ],
            [
             0.3333333333333333,
             "#9c179e"
            ],
            [
             0.4444444444444444,
             "#bd3786"
            ],
            [
             0.5555555555555556,
             "#d8576b"
            ],
            [
             0.6666666666666666,
             "#ed7953"
            ],
            [
             0.7777777777777778,
             "#fb9f3a"
            ],
            [
             0.8888888888888888,
             "#fdca26"
            ],
            [
             1,
             "#f0f921"
            ]
           ],
           "sequentialminus": [
            [
             0,
             "#0d0887"
            ],
            [
             0.1111111111111111,
             "#46039f"
            ],
            [
             0.2222222222222222,
             "#7201a8"
            ],
            [
             0.3333333333333333,
             "#9c179e"
            ],
            [
             0.4444444444444444,
             "#bd3786"
            ],
            [
             0.5555555555555556,
             "#d8576b"
            ],
            [
             0.6666666666666666,
             "#ed7953"
            ],
            [
             0.7777777777777778,
             "#fb9f3a"
            ],
            [
             0.8888888888888888,
             "#fdca26"
            ],
            [
             1,
             "#f0f921"
            ]
           ]
          },
          "colorway": [
           "#636efa",
           "#EF553B",
           "#00cc96",
           "#ab63fa",
           "#FFA15A",
           "#19d3f3",
           "#FF6692",
           "#B6E880",
           "#FF97FF",
           "#FECB52"
          ],
          "font": {
           "color": "#2a3f5f"
          },
          "geo": {
           "bgcolor": "white",
           "lakecolor": "white",
           "landcolor": "white",
           "showlakes": true,
           "showland": true,
           "subunitcolor": "#C8D4E3"
          },
          "hoverlabel": {
           "align": "left"
          },
          "hovermode": "closest",
          "mapbox": {
           "style": "light"
          },
          "paper_bgcolor": "white",
          "plot_bgcolor": "white",
          "polar": {
           "angularaxis": {
            "gridcolor": "#EBF0F8",
            "linecolor": "#EBF0F8",
            "ticks": ""
           },
           "bgcolor": "white",
           "radialaxis": {
            "gridcolor": "#EBF0F8",
            "linecolor": "#EBF0F8",
            "ticks": ""
           }
          },
          "scene": {
           "xaxis": {
            "backgroundcolor": "white",
            "gridcolor": "#DFE8F3",
            "gridwidth": 2,
            "linecolor": "#EBF0F8",
            "showbackground": true,
            "ticks": "",
            "zerolinecolor": "#EBF0F8"
           },
           "yaxis": {
            "backgroundcolor": "white",
            "gridcolor": "#DFE8F3",
            "gridwidth": 2,
            "linecolor": "#EBF0F8",
            "showbackground": true,
            "ticks": "",
            "zerolinecolor": "#EBF0F8"
           },
           "zaxis": {
            "backgroundcolor": "white",
            "gridcolor": "#DFE8F3",
            "gridwidth": 2,
            "linecolor": "#EBF0F8",
            "showbackground": true,
            "ticks": "",
            "zerolinecolor": "#EBF0F8"
           }
          },
          "shapedefaults": {
           "line": {
            "color": "#2a3f5f"
           }
          },
          "ternary": {
           "aaxis": {
            "gridcolor": "#DFE8F3",
            "linecolor": "#A2B1C6",
            "ticks": ""
           },
           "baxis": {
            "gridcolor": "#DFE8F3",
            "linecolor": "#A2B1C6",
            "ticks": ""
           },
           "bgcolor": "white",
           "caxis": {
            "gridcolor": "#DFE8F3",
            "linecolor": "#A2B1C6",
            "ticks": ""
           }
          },
          "title": {
           "x": 0.05
          },
          "xaxis": {
           "automargin": true,
           "gridcolor": "#EBF0F8",
           "linecolor": "#EBF0F8",
           "ticks": "",
           "title": {
            "standoff": 15
           },
           "zerolinecolor": "#EBF0F8",
           "zerolinewidth": 2
          },
          "yaxis": {
           "automargin": true,
           "gridcolor": "#EBF0F8",
           "linecolor": "#EBF0F8",
           "ticks": "",
           "title": {
            "standoff": 15
           },
           "zerolinecolor": "#EBF0F8",
           "zerolinewidth": 2
          }
         }
        },
        "title": {
         "text": "코스피 시장 주식 시각화"
        }
       }
      }
     },
     "metadata": {},
     "output_type": "display_data"
    }
   ],
   "source": [
    "### KOSPI 100개기업 시총순위별로 사각형크기 나누고 주가와 당일 등락률표시\n",
    "\n",
    "import FinanceDataReader as fdr\n",
    "import pandas as pd\n",
    "import numpy as np\n",
    "\n",
    "# 크롤링\n",
    "kospi100 = fdr.StockListing('KOSPI')\n",
    "\n",
    "# 시가총액으로 정렬하고 상위 100개 선택\n",
    "kospi100 = kospi100.sort_values(by='Marcap', ascending=False).head(100)\n",
    "\n",
    "# 섹터 열 추가, 업종명만 엑셀파일 참고라 코스피에 대규모상장만 안하면 교체필요 없음\n",
    "sector_df = pd.read_excel(\"/Users/hw/서강대학부자료/Quantifi/Trading AI/Crawling-and-Visualization-of-Macroeconomic-Indicators/20240514_업종분류표.xlsx\")\n",
    "\n",
    "sector_df.rename(columns={'종목코드':'Code'}, inplace=True)\n",
    "kospi100_df = pd.merge(kospi100, sector_df, on='Code')\n",
    "kospi100_df = pd.concat([kospi100_df.iloc[:,1:17], kospi100_df.iloc[:,19:20]],axis=1)\n",
    "kospi100_df.rename(columns={'업종명':'Sector'}, inplace=True)\n",
    "\n",
    "# 시가총액을 숫자형으로 변환\n",
    "kospi100_df['Marcap'] = kospi100_df['Marcap'].astype(float)\n",
    "\n",
    "# 함수 정의: 음수는 그대로, 양수는 +와 % 추가\n",
    "kospi100_df['ChagesRatio'] = np.where(kospi100_df['ChagesRatio']<0,\n",
    "                                kospi100_df['ChagesRatio'].astype(str) + \"%\",\n",
    "                                \"+\" + kospi100_df['ChagesRatio'].astype(str) + \"%\")\n",
    "\n",
    "# 섹터별로 데이터를 그룹화\n",
    "grouped = kospi100_df.groupby('Sector').sum()\n",
    "\n",
    "## 시총순 섹터별 사각형크기로 시각화\n",
    "import plotly.express as px\n",
    "\n",
    "fig = px.treemap(kospi100_df, path=['Sector', 'Name', 'ChagesRatio'], values='Marcap',\n",
    "                 color='Sector', hover_data=['Marcap'],\n",
    "                 color_continuous_scale='Viridis', title=\"코스피 시장 주식 시각화\")\n",
    "fig.show()\n"
   ]
  },
  {
   "cell_type": "code",
   "execution_count": null,
   "metadata": {},
   "outputs": [],
   "source": []
  },
  {
   "cell_type": "code",
   "execution_count": null,
   "metadata": {},
   "outputs": [],
   "source": []
  }
 ],
 "metadata": {
  "kernelspec": {
   "display_name": "base",
   "language": "python",
   "name": "python3"
  },
  "language_info": {
   "codemirror_mode": {
    "name": "ipython",
    "version": 3
   },
   "file_extension": ".py",
   "mimetype": "text/x-python",
   "name": "python",
   "nbconvert_exporter": "python",
   "pygments_lexer": "ipython3",
   "version": "3.11.5"
  }
 },
 "nbformat": 4,
 "nbformat_minor": 2
}
